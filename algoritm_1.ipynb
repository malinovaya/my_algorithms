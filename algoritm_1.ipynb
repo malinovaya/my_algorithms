{
 "cells": [
  {
   "cell_type": "code",
   "execution_count": 34,
   "id": "31a8ce9f-750f-40c7-8643-dc7a5e0243b5",
   "metadata": {},
   "outputs": [],
   "source": [
    "import numpy as np\n",
    "import pandas as pd\n",
    "import matplotlib.pyplot as plt\n",
    "import math\n",
    "import time\n",
    "import itertools"
   ]
  },
  {
   "cell_type": "code",
   "execution_count": 13,
   "id": "2c68e9f4-d02f-45af-b0d6-e181c390d278",
   "metadata": {},
   "outputs": [],
   "source": [
    "#Задача 1: Привести пример альфы и указать сложность алгоритма и пространственную сложность для нее (по элементно и асимптотическую)\n",
    "\n",
    "#alp6 = ((-((df_l-df)*(df_o**5)))/((df_l-df_h)*(df**5))) - сложность О(n*m), пробегаемся по таблице\n",
    "#alp6 = rank(alp6) - сложность О(n*m) ранжирование не предполагает вложенных операций\n",
    "#alp6 = truncate(alp6, 0.05) - сложность О(n*m), операции внутри датафрейма \n",
    "#alp6 = normalization(neutralization(alp6)) - сложность О(n^2 * m) так как мы используем двойной цикл операций\n",
    "\n",
    "#асимптотическая сложность - О(n^2 * m) \n"
   ]
  },
  {
   "cell_type": "code",
   "execution_count": 12,
   "id": "38e295be-7363-4e87-b650-8c09fe3f6bc5",
   "metadata": {},
   "outputs": [
    {
     "data": {
      "text/plain": [
       "'yes'"
      ]
     },
     "execution_count": 12,
     "metadata": {},
     "output_type": "execute_result"
    }
   ],
   "source": [
    "#Задача 2: Даны три натуральных числа. \n",
    "#Возможно ли построить треугольник с такими сторонами?\n",
    "#Если это возможно, выведите строку YES, иначе выведите строку NO. Треугольник — это три точки, не лежащие на одной прямой.\n",
    "\n",
    "a = 5\n",
    "b = 3\n",
    "c = 5\n",
    "\n",
    "def build_triangle(a, b, c):\n",
    "    if (a + b) > c and (a + c) > b and (b + c) > a:\n",
    "        return ('yes')\n",
    "    else:\n",
    "        return ('no')\n",
    "\n",
    "build_triangle(a, b, c)      "
   ]
  },
  {
   "cell_type": "code",
   "execution_count": 65,
   "id": "0b1a432e-de21-4cb4-b99a-47d071db1825",
   "metadata": {},
   "outputs": [],
   "source": [
    "#Задача 3: Решите в целых числах уравнение. a, b, c -- данные целые числа. \n",
    "#Найти все решения или сообщить, что решений в целых числах нет.\n",
    "def find_solution(a, b, c):\n",
    "    if a == 0:\n",
    "        if b == c**2:\n",
    "            print('infinity')\n",
    "        else:\n",
    "            print('нет решений в целых числах')\n",
    "    if c < 0:\n",
    "        print('нет решений в целых числах')\n",
    "    solutions = []\n",
    "    for x in range(-abs(b), abs(b) + 1):\n",
    "        if a * x + b == c**2:\n",
    "            solutions.append(x)  \n",
    "    return solutions if solutions else ('нет решений в целых числах')"
   ]
  },
  {
   "cell_type": "code",
   "execution_count": 66,
   "id": "8e23c585-9454-46a3-bd0a-d2a41d4760af",
   "metadata": {},
   "outputs": [
    {
     "data": {
      "text/plain": [
       "[0]"
      ]
     },
     "execution_count": 66,
     "metadata": {},
     "output_type": "execute_result"
    }
   ],
   "source": [
    "find_solution(1, 1, 1)"
   ]
  },
  {
   "cell_type": "code",
   "execution_count": 67,
   "id": "142a994f-155e-4b47-a7a3-cb8ece9900a9",
   "metadata": {},
   "outputs": [
    {
     "data": {
      "text/plain": [
       "'нет решений в целых числах'"
      ]
     },
     "execution_count": 67,
     "metadata": {},
     "output_type": "execute_result"
    }
   ],
   "source": [
    "find_solution(2, 3, 5)"
   ]
  },
  {
   "cell_type": "code",
   "execution_count": 83,
   "id": "515f8cc8-32e4-413e-96f1-97d8840c1e16",
   "metadata": {},
   "outputs": [
    {
     "name": "stdin",
     "output_type": "stream",
     "text": [
      " 11 1 1 1 1\n"
     ]
    },
    {
     "name": "stdout",
     "output_type": "stream",
     "text": [
      "0 1\n"
     ]
    }
   ],
   "source": [
    "#Задача 4: Бригада скорой помощи выехала по вызову в один из отделенных районов. \n",
    "#К сожалению, когда диспетчер получил вызов, он успел записать только адрес дома и номер квартиры K1, а затем связь прервалась.\n",
    "#Однако он вспомнил, что по этому же адресу дома некоторое время назад скорая помощь выезжала в квартиру K2, \n",
    "#которая расположена в подъезда P2 на этаже N2. \n",
    "#Известно, что в доме M этажей и количество квартир на каждой лестничной площадке одинаково. \n",
    "#Напишите программу, которая вычилсяет номер подъезда P1 и номер этажа N1 квартиры K1.\n",
    "\n",
    "#можно пожалуйста с консоли вводить чтобы проще перебирать варианты\n",
    "konsol = input()\n",
    "K1, M, K2, P2, N2 = konsol.split()\n",
    "\n",
    "def get_pf(K1, M, K2, P2, N2):\n",
    "    num_room_on_floor = []\n",
    "    res = [0, 0] \n",
    "    num_room_on_fl = math.ceil(K2/((P2-1)*M+N2))\n",
    "    num_room_on_floor.append(num_room_on_fl)\n",
    "    if (N2 == 1) and (P2 == 1):\n",
    "        if K1<=K2:\n",
    "            return (1, 1)\n",
    "        else:\n",
    "            if math.ceil(K1/K2) <= M:\n",
    "                res[0] = 1\n",
    "            else:\n",
    "                res[0] = 0\n",
    "            res[1] = 0\n",
    "    else:\n",
    "        while (math.ceil(K2 / num_room_on_fl) == N2):\n",
    "            num_room_on_floor.append(num_room_on_fl)\n",
    "            num_room_on_fl += 1\n",
    "        if len(num_room_on_floor) == 0:\n",
    "            return (-1, -1)\n",
    "\n",
    "#узнаем подъезд и этаж для каждого варианта кол-ва квартир на этаже\n",
    "\n",
    "        pods = []\n",
    "        flors = []\n",
    "        for num_room in num_room_on_floor:\n",
    "            pods.append(int((int(K1) - 1) / (int(M) * num_room)) + 1)\n",
    "            flors.append(int((int(K1) - 1) % (int(M) * num_room)/num_room) + 1)\n",
    "#случаи когда неоднозначно\n",
    "        if len(set(pods)) == 1:\n",
    "            res[0] = pods[0]\n",
    "        else:\n",
    "            res[0] = 0\n",
    "\n",
    "        if len(set(flors)) == 1:\n",
    "            res[1] = flors[0]\n",
    "        else:\n",
    "            res[1] = 0\n",
    "\n",
    "    if M==1:\n",
    "        res[1] = 1;\n",
    "\n",
    "    return res\n",
    "\n",
    "ret = get_pf(int(K1), int(M), int(K2), int(P2), int(N2))\n",
    "\n",
    "if isinstance(ret, list):\n",
    "    if ret[0] != 0 and ret[1] != 0:\n",
    "        check = get_pf(int(K2), int(M), int(K1), int(ret[0]), int(ret[1]))\n",
    "\n",
    "        if (check[0] == int(P2) and check[1] == int(N2)):\n",
    "            print(ret[0], ret[1])\n",
    "        else:\n",
    "            print(-1, -1)\n",
    "    else:\n",
    "        print(ret[0], ret[1])\n",
    "else:\n",
    "    print(ret[0], ret[1])"
   ]
  },
  {
   "cell_type": "code",
   "execution_count": 85,
   "id": "05aabc8d-eb53-43a5-ae7d-0cb0bb4ad7b9",
   "metadata": {},
   "outputs": [
    {
     "name": "stdin",
     "output_type": "stream",
     "text": [
      " 13 5 3\n"
     ]
    },
    {
     "name": "stdout",
     "output_type": "stream",
     "text": [
      "3\n"
     ]
    }
   ],
   "source": [
    "#Задача 5: Имеется N кг металлического сплава. Из него изготавливают заготовки массой K кг каждая. \n",
    "#После этого из каждой заготовки вытачиваются детали массой M кг каждая \n",
    "#(из каждой заготовки вытачивают максимально возможное количество деталей). \n",
    "#Если от заготовок после этого что-то остается, то этот материал возвращают к началу производственного цикла \n",
    "#и сплавляют с тем, что осталось при изготовлении заготовок. \n",
    "#Если того сплава, который получился, достаточно для изготовления хотя бы одной заготовки, \n",
    "#то из него снова изготавливают заготовки, из них – детали и т.д. \n",
    "#Напишите программу, которая вычислит, какое количество деталей может быть получено по этой технологии \n",
    "#из имеющихся исходно N кг сплава.\n",
    "\n",
    "konsol = input()\n",
    "N, K, M = konsol.split()\n",
    "N = int(N)\n",
    "K = int(K)\n",
    "M = int(M)\n",
    "\n",
    "result = 0\n",
    "if M <= K:\n",
    "    while N >= K:\n",
    "        count_zag = int(N / K)\n",
    "        N_ost = N % K\n",
    "        count_det_s_zag = int(K / M)\n",
    "        ostatki = K % M\n",
    "        result += count_zag * count_det_s_zag\n",
    "        N = N_ost + (ostatki * count_zag)\n",
    "\n",
    "print(result)"
   ]
  },
  {
   "cell_type": "code",
   "execution_count": 90,
   "id": "0aafd59f-ce77-40c0-80e2-34dc7fc3c94a",
   "metadata": {},
   "outputs": [
    {
     "name": "stdin",
     "output_type": "stream",
     "text": [
      " 1 1 1 1 1\n"
     ]
    },
    {
     "name": "stdout",
     "output_type": "stream",
     "text": [
      "да\n"
     ]
    }
   ],
   "source": [
    "#Задача 6: За многие годы заточения узник замка Иф проделал в стене прямоугольное отверстие размером D × E. \n",
    "#Замок Иф сложен из кирпичей, размером A × B × C. Определите, сможет ли узник выбрасывать кирпичи в море через это отверстие, \n",
    "#если стороны кирпича должны быть параллельны сторонам отверстия.\n",
    "\n",
    "konsol = input()\n",
    "a, b, c, d, e = konsol.split()\n",
    "\n",
    "a = int(a)\n",
    "b = int(b)\n",
    "c = int(c)\n",
    "d = int(d)\n",
    "e = int(e)\n",
    "\n",
    "result = 'нет'\n",
    "\n",
    "if ((a <= d) and (b <= e)) or ((a <= e) and (b <= d)):\n",
    "    result = 'да'\n",
    "\n",
    "if ((b <= d) and (c <= e)) or ((b <= e) and (c <= d)):\n",
    "    result = 'да'\n",
    "\n",
    "if ((c <= d) and (a <= e)) or ((c <= e) and (a <= d)):\n",
    "    result = 'да'\n",
    "\n",
    "print(result)"
   ]
  },
  {
   "cell_type": "code",
   "execution_count": 93,
   "id": "5d88a07a-1f0a-4443-b708-8b2f5dc72e78",
   "metadata": {},
   "outputs": [
    {
     "name": "stdin",
     "output_type": "stream",
     "text": [
      " 3\n",
      " 4\n",
      " 1\n",
      " 2\n",
      " 6\n",
      " 7\n"
     ]
    },
    {
     "name": "stdout",
     "output_type": "stream",
     "text": [
      "Решение системы будет иметь выражено через х1 и х2 соответственно:  -7.999999999999999 7.499999999999999\n"
     ]
    }
   ],
   "source": [
    "#Задача 7: Даны числа a, b, c, d, e, f. Решить систему линейных уравнений. Учесть все возможные случаи\n",
    "\n",
    "a = float(input())\n",
    "b = float(input())\n",
    "c = float(input())\n",
    "d = float(input())\n",
    "e = float(input())\n",
    "f = float(input())\n",
    "\n",
    "A = np.array([[a, b],[c, d]])\n",
    "B = np.array([e, f])\n",
    "C = np.array([[a, b, e],[c, d, f]])\n",
    "#теорема Кронекера-Капелли\n",
    "if np.linalg.det(A) == 0 and np.linalg.matrix_rank(A) == np.linalg.matrix_rank(C):\n",
    "    print('Бесконечно много решений, несовместна')\n",
    "else:\n",
    "    X = np.linalg.solve(A, B)\n",
    "    print('Решение системы будет иметь выражено через х1 и х2 соответственно: ', X[0], X[1])"
   ]
  },
  {
   "cell_type": "code",
   "execution_count": null,
   "id": "e5cf614a-bd6b-4fb1-95e4-49bbded7c32e",
   "metadata": {},
   "outputs": [],
   "source": []
  }
 ],
 "metadata": {
  "kernelspec": {
   "display_name": "Python 3 (ipykernel)",
   "language": "python",
   "name": "python3"
  },
  "language_info": {
   "codemirror_mode": {
    "name": "ipython",
    "version": 3
   },
   "file_extension": ".py",
   "mimetype": "text/x-python",
   "name": "python",
   "nbconvert_exporter": "python",
   "pygments_lexer": "ipython3",
   "version": "3.12.0"
  }
 },
 "nbformat": 4,
 "nbformat_minor": 5
}

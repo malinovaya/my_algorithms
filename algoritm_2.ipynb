{
 "cells": [
  {
   "cell_type": "code",
   "execution_count": 13,
   "id": "f0584ade-2a29-4651-9118-b1b39520363a",
   "metadata": {},
   "outputs": [],
   "source": [
    "import numpy as np\n",
    "import pandas as pd\n",
    "import matplotlib.pyplot as plt\n",
    "import math\n",
    "import time as t\n",
    "import itertools"
   ]
  },
  {
   "cell_type": "code",
   "execution_count": 25,
   "id": "c6817b01-8e6a-4633-83d6-f2204d52ce2a",
   "metadata": {},
   "outputs": [],
   "source": [
    "#ну вообще должен работать на любом тестике\n",
    "\n",
    "def max_non_overlapping_sum(intervals):\n",
    "    intervals.sort(key=lambda x: x[1])\n",
    "    max_sum = 0\n",
    "    last_end = float('-inf')\n",
    "    \n",
    "    for start, end in intervals:\n",
    "        if start >= last_end:\n",
    "            max_sum += end - start\n",
    "            last_end = end\n",
    "    return max_sum"
   ]
  },
  {
   "cell_type": "code",
   "execution_count": 26,
   "id": "cc45eb09-5dc1-4cbe-9fe6-5c3706c2f4b0",
   "metadata": {},
   "outputs": [
    {
     "name": "stdout",
     "output_type": "stream",
     "text": [
      "4\n"
     ]
    }
   ],
   "source": [
    "intervals = [[1, 3], [2, 5], [4, 6], [3, 8]]\n",
    "print(max_non_overlapping_sum(intervals))"
   ]
  },
  {
   "cell_type": "code",
   "execution_count": 28,
   "id": "7a0b325c-ccba-499b-acfe-fd496a8207f7",
   "metadata": {},
   "outputs": [
    {
     "name": "stdout",
     "output_type": "stream",
     "text": [
      "3\n"
     ]
    }
   ],
   "source": [
    "intervals = [[1, 3], [5, 6], [3, 8]]\n",
    "print(max_non_overlapping_sum(intervals))"
   ]
  },
  {
   "cell_type": "code",
   "execution_count": 30,
   "id": "2f914cf0-0128-4c3f-a09c-e24ee3b3e31a",
   "metadata": {},
   "outputs": [
    {
     "name": "stdout",
     "output_type": "stream",
     "text": [
      "6\n"
     ]
    }
   ],
   "source": [
    "intervals = [[7, 8], [10, 14], [16, 17], [7, 8]]\n",
    "print(max_non_overlapping_sum(intervals))"
   ]
  },
  {
   "cell_type": "code",
   "execution_count": 5,
   "id": "b2fc02f6-1306-4532-9e29-df3b0b665d52",
   "metadata": {},
   "outputs": [
    {
     "name": "stdout",
     "output_type": "stream",
     "text": [
      "[(1, 3), (3, 6)]\n"
     ]
    }
   ],
   "source": [
    "def Acstel(lst):\n",
    "  lst = sorted(lst,key=lambda x: x[1])\n",
    "  sol = []\n",
    "  while len(lst)>0:\n",
    "    min = lst[0]\n",
    "    sol.append(min)\n",
    "    removal =[]\n",
    "    for i in range(len(lst)):\n",
    "      if(lst[i][0]<min[1]):\n",
    "        removal.append(lst[i])\n",
    "      else:\n",
    "           break\n",
    "    for i in removal:\n",
    "                   lst.remove(i)\n",
    "  return sol\n",
    " \n",
    "lst= [(1,3),(2,5),(3,6)]\n",
    "sol = Acstel(lst)\n",
    "print(sol)"
   ]
  },
  {
   "cell_type": "code",
   "execution_count": 18,
   "id": "05ad3051-f07a-458c-832f-1003bd108e83",
   "metadata": {},
   "outputs": [],
   "source": [
    "#Задача 2 о камнях. Петя и Вася вытягивают камни из двух куч. В одной n, в другой m камней. Первый ходит Петя. \n",
    "#Выигрывает тот, кто забирает последний камень. За ход можно взять либо один камень из любой из куч, либо по камню из каждой. \n",
    "#Требуется по числам m, n определить может ли Петя детерминированно выиграть.\n",
    "\n",
    "def game(n, m):\n",
    "  if n % 2 == 0 and m % 2 == 0:\n",
    "    return 'Lose'\n",
    "  else: \n",
    "    return 'Win'"
   ]
  },
  {
   "cell_type": "code",
   "execution_count": 19,
   "id": "0f232388-5c05-4dfe-899f-d7f6514cd550",
   "metadata": {},
   "outputs": [
    {
     "data": {
      "text/plain": [
       "'Win'"
      ]
     },
     "execution_count": 19,
     "metadata": {},
     "output_type": "execute_result"
    }
   ],
   "source": [
    "game(23, 10)"
   ]
  },
  {
   "cell_type": "code",
   "execution_count": 20,
   "id": "5295785c-5850-4f70-be5d-40f581703fe3",
   "metadata": {},
   "outputs": [
    {
     "data": {
      "text/plain": [
       "'Lose'"
      ]
     },
     "execution_count": 20,
     "metadata": {},
     "output_type": "execute_result"
    }
   ],
   "source": [
    "game(14, 14)"
   ]
  },
  {
   "cell_type": "code",
   "execution_count": 16,
   "id": "32aaf41b-f994-4cfb-a501-f90a6d716569",
   "metadata": {},
   "outputs": [],
   "source": [
    "#Ханойские башни. Нужно рекурсивное решение\n",
    "\n",
    "def Hanoi_Tower(n , name1, name2, name3):\n",
    "    if n==1:\n",
    "        print (\"Move disk 1 from L1\",name1,\"to L2\",name2)\n",
    "        return\n",
    "    Hanoi_Tower(n-1, name1, name3, name2)\n",
    "    print (\"Move disk\",n,\"from L1\",name1,\"to L2\",name2)\n",
    "    Hanoi_Tower(n-1, name3, name2, name1)\n",
    "     "
   ]
  },
  {
   "cell_type": "code",
   "execution_count": 17,
   "id": "787e5662-f687-4d96-a061-2d50a4bd0024",
   "metadata": {},
   "outputs": [
    {
     "name": "stdout",
     "output_type": "stream",
     "text": [
      "Move disk 1 from L1 A to L2 C\n",
      "Move disk 2 from L1 A to L2 B\n",
      "Move disk 1 from L1 C to L2 B\n",
      "Move disk 3 from L1 A to L2 C\n",
      "Move disk 1 from L1 B to L2 A\n",
      "Move disk 2 from L1 B to L2 C\n",
      "Move disk 1 from L1 A to L2 C\n",
      "Move disk 4 from L1 A to L2 B\n",
      "Move disk 1 from L1 C to L2 B\n",
      "Move disk 2 from L1 C to L2 A\n",
      "Move disk 1 from L1 B to L2 A\n",
      "Move disk 3 from L1 C to L2 B\n",
      "Move disk 1 from L1 A to L2 C\n",
      "Move disk 2 from L1 A to L2 B\n",
      "Move disk 1 from L1 C to L2 B\n"
     ]
    }
   ],
   "source": [
    "Hanoi_Tower(4,'A','B','C')"
   ]
  },
  {
   "cell_type": "code",
   "execution_count": 14,
   "id": "1aa14a1f-70d3-4b09-a88c-707b732bfad1",
   "metadata": {},
   "outputs": [],
   "source": [
    "#Найти объем шара радиусом 1 с цетром (0, 0) методом Монте-Карло на сетке [-1,1]^3, засечь время и точность (1 балл).\n",
    "#Найти объем того же шара на некотором усеченном пространстве. Сравнить результаты (2 балла)\n",
    "import random as r\n",
    "\n",
    "def monte_carlo_sphere1(n):\n",
    "    count = 0\n",
    "    start_time = t.time()\n",
    "    for i in range(n):\n",
    "        x = r.uniform(-1, 1)\n",
    "        y = r.uniform(-1, 1)\n",
    "        z = r.uniform(-1, 1)\n",
    "        if x**2 + y**2 + z**2 <= 1:\n",
    "            count += 1\n",
    "    end_time = t.time()\n",
    "    timeee = end_time - start_time\n",
    "\n",
    "    print ('Result = ', (count/n)*8, 'Time = ', timeee, 'sec')\n"
   ]
  },
  {
   "cell_type": "code",
   "execution_count": 15,
   "id": "f7ba4945-5a76-444c-9cc2-4fff65224337",
   "metadata": {},
   "outputs": [
    {
     "name": "stdout",
     "output_type": "stream",
     "text": [
      "Result =  4.1216 Time =  0.013998985290527344 sec\n"
     ]
    }
   ],
   "source": [
    "monte_carlo_sphere1(10000)"
   ]
  },
  {
   "cell_type": "code",
   "execution_count": null,
   "id": "4bd136ca-151e-40aa-b40f-1cd0b97096d6",
   "metadata": {},
   "outputs": [],
   "source": []
  }
 ],
 "metadata": {
  "kernelspec": {
   "display_name": "Python 3 (ipykernel)",
   "language": "python",
   "name": "python3"
  },
  "language_info": {
   "codemirror_mode": {
    "name": "ipython",
    "version": 3
   },
   "file_extension": ".py",
   "mimetype": "text/x-python",
   "name": "python",
   "nbconvert_exporter": "python",
   "pygments_lexer": "ipython3",
   "version": "3.12.0"
  }
 },
 "nbformat": 4,
 "nbformat_minor": 5
}
